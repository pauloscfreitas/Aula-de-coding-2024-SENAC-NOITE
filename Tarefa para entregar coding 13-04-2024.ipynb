{
 "cells": [
  {
   "cell_type": "code",
   "execution_count": 8,
   "metadata": {},
   "outputs": [
    {
     "name": "stdout",
     "output_type": "stream",
     "text": [
      "Os números que você escolheu foram:  2 , 2 , 2.0 foram estes.\n"
     ]
    }
   ],
   "source": [
    "# 1) Faça um Programa que peça 2 números inteiros e um número real. Calcule e mostre:\n",
    "num1 = int(input(\"Digite um número inteiro\"))\n",
    "num2 = int(input(\"Digite outro número inteiro\"))\n",
    "num3 = float(input(\"Digite um número real {Aqueles com vírgula e casas decimais}\"))\n",
    "print(\"Os números que você escolheu foram: \", num1,\",\", num2, \",\", num3, \"foram estes.\")\n"
   ]
  },
  {
   "cell_type": "code",
   "execution_count": 9,
   "metadata": {},
   "outputs": [
    {
     "name": "stdout",
     "output_type": "stream",
     "text": [
      "Temos aqui O produto do dobro do primeiro com metade do segundo\n",
      "4.0 Aqui está a resposta\n"
     ]
    }
   ],
   "source": [
    "# O produto do dobro do primeiro com metade do segundo.\n",
    "print(\"Temos aqui O produto do dobro do primeiro com metade do segundo\")\n",
    "\n",
    "dobroDoPrimeiro = num1*2\n",
    "\n",
    "metadeDoSegundo = num2/2\n",
    "\n",
    "print(dobroDoPrimeiro*metadeDoSegundo, \"Aqui está a resposta\")\n"
   ]
  },
  {
   "cell_type": "code",
   "execution_count": 10,
   "metadata": {},
   "outputs": [
    {
     "name": "stdout",
     "output_type": "stream",
     "text": [
      "Aqui esta a soma do triplo do primeiro com o terceiro: 8.0 Aqui está o terceiro elevado ao cubo 8.0\n"
     ]
    }
   ],
   "source": [
    "# b)A soma do triplo do primeiro com o terceiro. o terceiro elevado ao cubo.\n",
    "triploDoPrimeiro = num1*3\n",
    "\n",
    "cuboDoTerceiro = num3**3\n",
    "\n",
    "print(\"Aqui esta a soma do triplo do primeiro com o terceiro:\", triploDoPrimeiro+num3, \"Aqui está o terceiro elevado ao cubo\", cuboDoTerceiro)\n",
    "\n"
   ]
  },
  {
   "cell_type": "code",
   "execution_count": 16,
   "metadata": {},
   "outputs": [
    {
     "name": "stdout",
     "output_type": "stream",
     "text": [
      "O maior número entre eles é o segundo:  6.77\n"
     ]
    }
   ],
   "source": [
    "# 2) Faça um Programa que peça dois números e imprima o maior deles.\n",
    "num11 = float(input(\"Escreva um número: \"))\n",
    "\n",
    "num22 = float(input(\"Escreva um segundo número: \"))\n",
    "\n",
    "if num11 > num22:\n",
    "\n",
    "    print(\"O maior número entre eles é o primeiro: \", num11)\n",
    "else:\n",
    "    print(\"O maior número entre eles é o segundo: \", num22)\n"
   ]
  },
  {
   "cell_type": "code",
   "execution_count": 20,
   "metadata": {},
   "outputs": [
    {
     "name": "stdout",
     "output_type": "stream",
     "text": [
      "O número:  6.0 é positivo\n"
     ]
    }
   ],
   "source": [
    "# 3) Faça um Programa que peça um valor e mostre na tela se o valor é positivo ou negativo.\n",
    "\n",
    "num111 = float(input(\"Digite um número: \"))\n",
    "\n",
    "if num111 > 0:\n",
    "    print(\"O número: \", num111, \"é positivo\")\n",
    "else:\n",
    "    print(\"O número: \", num111, \"é negativo\")"
   ]
  },
  {
   "cell_type": "code",
   "execution_count": 24,
   "metadata": {},
   "outputs": [
    {
     "name": "stdout",
     "output_type": "stream",
     "text": [
      "Parabéns, você foi aprovado!!\n"
     ]
    }
   ],
   "source": [
    "# 4) Faça um programa para a leitura de duas notas parciais de \n",
    "# um aluno. O programa deve calcular a média alcançada por aluno e apresentar o resultado \n",
    "# \"Aprovado\" ou \"Reprovado\". Considere que a escola adota média 7.00.\n",
    "\n",
    "nota1 = float(input(\"Digite a sua primeira nota: \"))\n",
    "nota2 = float(input(\"Digite a sua segunda nota: \"))\n",
    "mediaNota = (nota1+nota2)/2\n",
    "if mediaNota > 7:\n",
    "    print(\"Parabéns, você foi aprovado!!\")\n",
    "else:\n",
    "     print(\"Que pena, você não foi aprovado com esta média\")"
   ]
  },
  {
   "cell_type": "code",
   "execution_count": 25,
   "metadata": {},
   "outputs": [
    {
     "name": "stdout",
     "output_type": "stream",
     "text": [
      "O maior deles é o numero 2\n",
      "O maior deles é o numero 3\n",
      "O maior deles é o numero 1.\n"
     ]
    }
   ],
   "source": [
    "kum1 = int(input('DIGITE UM NUMERO'))\n",
    "kum2 = int(input('DIGITE UM NUMERO'))\n",
    "kum3 = int(input('DIGITE UM NUMERO'))\n",
    "if kum1 - kum2 < 0:\n",
    "    print(\"O maior deles é o numero 2\")\n",
    "else:\n",
    "    print\n",
    "if kum2 - kum3 < 0:\n",
    "    print(\"O maior deles é o numero 3\")\n",
    "if kum1 - kum3 < 0:\n",
    "    print(\"O maior deles é o numero 1.\")\n"
   ]
  },
  {
   "cell_type": "code",
   "execution_count": 5,
   "metadata": {},
   "outputs": [
    {
     "name": "stdout",
     "output_type": "stream",
     "text": [
      "O maior deles é o numero 1\n"
     ]
    }
   ],
   "source": [
    "kum1 = int(input('DIGITE UM NUMERO'))\n",
    "kum2 = int(input('DIGITE UM NUMERO'))\n",
    "kum3 = int(input('DIGITE UM NUMERO'))\n",
    "if kum1 > kum2 and kum1 > kum3:\n",
    "    print(\"O maior deles é o numero 1\")\n",
    "elif kum2 > kum3:\n",
    "    print('O maior deles é o numero 2')\n",
    "else:\n",
    "    print(\"O maior deles é o número 3\")\n",
    "\n"
   ]
  }
 ],
 "metadata": {
  "kernelspec": {
   "display_name": "Python 3",
   "language": "python",
   "name": "python3"
  },
  "language_info": {
   "codemirror_mode": {
    "name": "ipython",
    "version": 3
   },
   "file_extension": ".py",
   "mimetype": "text/x-python",
   "name": "python",
   "nbconvert_exporter": "python",
   "pygments_lexer": "ipython3",
   "version": "3.11.9"
  }
 },
 "nbformat": 4,
 "nbformat_minor": 2
}
