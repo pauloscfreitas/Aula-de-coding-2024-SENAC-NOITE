{
 "cells": [
  {
   "cell_type": "code",
   "execution_count": null,
   "metadata": {},
   "outputs": [],
   "source": [
    "#Primeiramente aqui eu criei as variaveis fixas que existem na empresa, os cargos\n",
    "cargo = \"gerente\"\n",
    "cargo1 = \"engenheiro\"\n",
    "cargo2 = \"tecnico\"\n",
    "#Aqui criei os codigos referentes a cada cargo da empresa\n",
    "cod1 = \"101\"\n",
    "cod2 = \"102\"\n",
    "cod3 = \"103\"\n",
    "#Aqui eu peço para que o programa pergunte qual o cargo e codigo do funcionario, caso coloque indevidamente, nao vai rodar o programa\n",
    "cargo_ = str(input(\"Digite seu cargo: \")).lower()\n",
    "cod1_ = str(input(\"Digite seu código de funcionário: \")).lower()\n",
    "#Criei a condicao se caso o cargo e o codigo forem correspondentes a o que está na tabela da empresa, ele leia e de o aumento correspondente\n",
    "#Ao cargo e ao código, baseado no salário\n",
    "if cargo == cargo_ and cod1 == cod1_ :\n",
    "    salarioGerente = int(input(\"Digite seu salário como gerente: \"))\n",
    "    print(\"Seu salário como gerente é : R$\", salarioGerente,\"o AUMENTO foi de: \", salarioGerente/10,\"Totalizando no salário: R$\",\n",
    "     (salarioGerente/10) + salarioGerente)   \n",
    "elif cargo1 == cargo_ and cod2 == cod1_ :\n",
    "    salarioEngenheiro = int(input(\"Digite seu salário como engenheiro: \"))\n",
    "    print(\"Seu salário como engenheiro é : R$\", salarioEngenheiro,\"o AUMENTO foi de: \", salarioEngenheiro*0.2,\"Totalizando no salário: R$\",\n",
    "     (salarioEngenheiro*0.2) + salarioEngenheiro)\n",
    "elif cargo2 == cargo_ and cod3 == cod1_ :\n",
    "    salarioTecnico = int(input(\"Digite seu salário como tecnico: \"))\n",
    "    print(\"Seu salário como tecnico é : R$\", salarioTecnico,\"o AUMENTO foi de: \", salarioTecnico*0.3,\"Totalizando no salário: R$\",\n",
    "     (salarioTecnico*0.3) + salarioTecnico)"
   ]
  },
  {
   "cell_type": "code",
   "execution_count": null,
   "metadata": {},
   "outputs": [],
   "source": [
    "anoDoCarro = int(input(\"escreva o ano do carro\"))\n",
    "precoDoCarro = float(input(\"digite o preco do carro\"))\n",
    "menorQue1990 = (precoDoCarro * 0.1)\n",
    "maiorQue1990 = (precoDoCarro * 0.15)\n",
    " \n",
    "if anoDoCarro < 1990:\n",
    "    print(\"a taxa sobre o preco do carro ficará 1% sobre o valor dele\", menorQue1990, \"o valor do imposto é esse, é de antes de 1990\")\n",
    " \n",
    "elif anoDoCarro > 1990:\n",
    " \n",
    "    print (\"a taxa sobre o preco do carro ficará 1,5% sobre o valor dele\", maiorQue1990, \"o valor do imposto é esse, passa de 1990\")"
   ]
  }
 ],
 "metadata": {
  "kernelspec": {
   "display_name": "Python 3",
   "language": "python",
   "name": "python3"
  },
  "language_info": {
   "name": "python",
   "version": "3.11.9"
  }
 },
 "nbformat": 4,
 "nbformat_minor": 2
}
