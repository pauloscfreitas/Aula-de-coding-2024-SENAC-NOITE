{
 "cells": [
  {
   "cell_type": "markdown",
   "metadata": {},
   "source": []
  },
  {
   "cell_type": "code",
   "execution_count": 1,
   "metadata": {},
   "outputs": [
    {
     "name": "stdout",
     "output_type": "stream",
     "text": [
      "O número que vocÊ digitou foi: 5\n"
     ]
    }
   ],
   "source": [
    "numero = int(input(\"Digite um numero: \"))\n",
    "print(\"O número que você digitou foi:\", numero)"
   ]
  },
  {
   "cell_type": "code",
   "execution_count": 3,
   "metadata": {},
   "outputs": [
    {
     "name": "stdout",
     "output_type": "stream",
     "text": [
      "A soma dos numeros que você colocou é: 10\n"
     ]
    }
   ],
   "source": [
    "numero1 = int(input(\"Digite um numero 1 : \"))\n",
    "numero2 = int(input(\"Digite um numero 2 : \"))\n",
    "soma = (numero1+numero2)\n",
    "print(\"A soma dos numeros que você colocou é:\", soma)"
   ]
  },
  {
   "cell_type": "code",
   "execution_count": 4,
   "metadata": {},
   "outputs": [
    {
     "name": "stdout",
     "output_type": "stream",
     "text": [
      "A sua média é:  7.0\n"
     ]
    }
   ],
   "source": [
    "m1 = int(input(\"Digite uma media 1 : \"))\n",
    "m2 = int(input(\"Digite um media 2 : \"))\n",
    "m3 = int(input(\"Digite um media 3 : \"))\n",
    "media = (m1+m2+m3)/3\n",
    "print(\"A sua média é: \", media)"
   ]
  },
  {
   "cell_type": "code",
   "execution_count": 9,
   "metadata": {},
   "outputs": [
    {
     "name": "stdout",
     "output_type": "stream",
     "text": [
      "Seu salario no mes é: 1490.4\n"
     ]
    }
   ],
   "source": [
    "#quanto ganha por hora\n",
    "salarioHora = float(input(\"Digite seu salário por hora: \"))\n",
    "horasPorDia = int(input(\"Digite quantas horas você trabalha por dia: \"))\n",
    "diasMes = int(input(\"Digite quantos dias você trabalha no mês: \"))\n",
    "salarioDia = salarioHora*horasPorDia\n",
    "salarioMes = salarioDia*diasMes\n",
    "print(\"Seu salario no mes é:\", salarioMes)\n",
    "\n",
    "\n",
    "\n"
   ]
  }
 ],
 "metadata": {
  "kernelspec": {
   "display_name": "Python 3",
   "language": "python",
   "name": "python3"
  },
  "language_info": {
   "codemirror_mode": {
    "name": "ipython",
    "version": 3
   },
   "file_extension": ".py",
   "mimetype": "text/x-python",
   "name": "python",
   "nbconvert_exporter": "python",
   "pygments_lexer": "ipython3",
   "version": "3.11.9"
  }
 },
 "nbformat": 4,
 "nbformat_minor": 2
}
