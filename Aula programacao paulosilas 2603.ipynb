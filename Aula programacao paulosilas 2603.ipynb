{
 "cells": [
  {
   "cell_type": "code",
   "execution_count": 16,
   "metadata": {},
   "outputs": [
    {
     "name": "stdout",
     "output_type": "stream",
     "text": [
      "Ola senac\n"
     ]
    }
   ],
   "source": [
    "#codigo para escrever algo\n",
    "print(\"Ola senac\")\n"
   ]
  },
  {
   "cell_type": "code",
   "execution_count": 18,
   "metadata": {},
   "outputs": [
    {
     "name": "stdout",
     "output_type": "stream",
     "text": [
      "ola camila sua idade é 35\n"
     ]
    }
   ],
   "source": [
    "# Codigo para criar variavel\n",
    "pessoa = 'camila'\n",
    "idade = 35\n",
    "print(\"ola\", pessoa, \"sua idade é\", idade)"
   ]
  },
  {
   "cell_type": "code",
   "execution_count": 29,
   "metadata": {},
   "outputs": [],
   "source": [
    "# Criação de variáveis (usamos caractere, float, e boolean)\n",
    "pessoa = 'paulo'\n",
    "idade = 20\n",
    "altura = 1.70\n",
    "dev = True"
   ]
  },
  {
   "cell_type": "code",
   "execution_count": 22,
   "metadata": {},
   "outputs": [
    {
     "data": {
      "text/plain": [
       "str"
      ]
     },
     "execution_count": 22,
     "metadata": {},
     "output_type": "execute_result"
    }
   ],
   "source": [
    "#type serve para elucidar qual a variavel utilizada\n",
    "type(pessoa)"
   ]
  },
  {
   "cell_type": "code",
   "execution_count": 26,
   "metadata": {},
   "outputs": [
    {
     "data": {
      "text/plain": [
       "int"
      ]
     },
     "execution_count": 26,
     "metadata": {},
     "output_type": "execute_result"
    }
   ],
   "source": [
    "#type serve para elucidar qual a variavel utilizada\n",
    "type(idade)"
   ]
  },
  {
   "cell_type": "code",
   "execution_count": 30,
   "metadata": {},
   "outputs": [
    {
     "data": {
      "text/plain": [
       "float"
      ]
     },
     "execution_count": 30,
     "metadata": {},
     "output_type": "execute_result"
    }
   ],
   "source": [
    "#type serve para elucidar qual a variavel utilizada\n",
    "type(altura)"
   ]
  },
  {
   "cell_type": "code",
   "execution_count": 31,
   "metadata": {},
   "outputs": [
    {
     "data": {
      "text/plain": [
       "bool"
      ]
     },
     "execution_count": 31,
     "metadata": {},
     "output_type": "execute_result"
    }
   ],
   "source": [
    "#type serve para elucidar qual a variavel utilizada\n",
    "type(dev)"
   ]
  },
  {
   "cell_type": "code",
   "execution_count": 33,
   "metadata": {},
   "outputs": [
    {
     "name": "stdout",
     "output_type": "stream",
     "text": [
      "25 É o resultado da multiplicação de ambos\n"
     ]
    }
   ],
   "source": [
    "# Codigo para multiplicar dois numeros e dar resultado\n",
    "n1 = int(input (\"Digite o primeiro número\"))\n",
    "n2 = int(input (\"Digite o segundo número\"))\n",
    "print(n1*n2, \"É o resultado da multiplicação de ambos\")"
   ]
  },
  {
   "cell_type": "code",
   "execution_count": 36,
   "metadata": {},
   "outputs": [
    {
     "name": "stdout",
     "output_type": "stream",
     "text": [
      "1.0 É o resultado da divisao de ambos\n"
     ]
    }
   ],
   "source": [
    "# Para dar resultado da divisao de ambos numeros, utilizando o conjunto dos reais\n",
    "n1 = float(input (\"Digite o primeiro número\"))\n",
    "n2 = float(input (\"Digite o segundo número\"))\n",
    "n3 = float(n1/n2)\n",
    "print (n1/n2, \"É o resultado da divisao de ambos\")"
   ]
  },
  {
   "cell_type": "code",
   "execution_count": 37,
   "metadata": {},
   "outputs": [],
   "source": [
    "# Operações com variaveis\n",
    "idade1 = 20\n",
    "idade2 = 35\n"
   ]
  },
  {
   "cell_type": "code",
   "execution_count": 40,
   "metadata": {},
   "outputs": [
    {
     "name": "stdout",
     "output_type": "stream",
     "text": [
      "sua idade é 55\n"
     ]
    }
   ],
   "source": [
    "# Criando variavel para guardar a operação que está sendo feita\n",
    "soma = idade1 + idade2\n",
    "print (\"sua idade é\", soma)"
   ]
  },
  {
   "cell_type": "code",
   "execution_count": 41,
   "metadata": {},
   "outputs": [
    {
     "name": "stdout",
     "output_type": "stream",
     "text": [
      "3025\n"
     ]
    }
   ],
   "source": [
    "# Testando operação de multiplicação com variável\n",
    "print(soma*soma)"
   ]
  },
  {
   "cell_type": "code",
   "execution_count": 46,
   "metadata": {},
   "outputs": [
    {
     "name": "stdout",
     "output_type": "stream",
     "text": [
      "a soma anterior vezes 3 é 165\n"
     ]
    }
   ],
   "source": [
    "# Criando variável em cima de outra variável\n",
    "somax3 = soma * 3\n",
    "print(\"a soma anterior vezes 3 é\", somax3)"
   ]
  },
  {
   "cell_type": "code",
   "execution_count": 48,
   "metadata": {},
   "outputs": [
    {
     "name": "stdout",
     "output_type": "stream",
     "text": [
      "A diferença é 110\n"
     ]
    }
   ],
   "source": [
    "# Criação de média utilizando duas variáveis - comparação\n",
    "diferenca = somax3 - soma\n",
    "print(\"A diferença é\", diferenca)"
   ]
  },
  {
   "cell_type": "code",
   "execution_count": 55,
   "metadata": {},
   "outputs": [
    {
     "name": "stdout",
     "output_type": "stream",
     "text": [
      "Esses são os numeros que vão até o resultado\n",
      "[5, 6, 7, 8, 9, 10]\n"
     ]
    }
   ],
   "source": [
    "# Lista de numeros até o que você escolheu\n",
    "print(\"Esses são os numeros que vão até o resultado\")\n",
    "somax4 = int(input(\"escolha um numero para ele ser contado\"))\n",
    "somax5 = int(input(\"escolha o numero final\"))\n",
    "nmrs =  list(range(somax4, somax5 + 1))\n",
    "print(nmrs)"
   ]
  },
  {
   "cell_type": "code",
   "execution_count": 50,
   "metadata": {},
   "outputs": [
    {
     "name": "stdout",
     "output_type": "stream",
     "text": [
      "[1, 2, 3, 4, 5, 6, 7, 8, 9, 10, 11, 12, 13, 14, 15, 16, 17, 18, 19, 20, 21, 22, 23, 24, 25, 26, 27, 28, 29, 30, 31, 32, 33, 34, 35, 36, 37, 38, 39, 40, 41, 42, 43, 44, 45, 46, 47, 48, 49, 50, 51, 52, 53, 54, 55, 56, 57, 58, 59, 60, 61, 62, 63, 64, 65, 66, 67, 68, 69, 70, 71, 72, 73, 74, 75, 76, 77, 78, 79, 80, 81, 82, 83, 84, 85, 86, 87, 88, 89, 90, 91, 92, 93, 94, 95, 96, 97, 98, 99, 100, 101, 102, 103, 104, 105, 106, 107, 108, 109, 110, 111, 112, 113, 114, 115, 116, 117, 118, 119, 120, 121, 122, 123, 124, 125, 126, 127, 128, 129, 130, 131, 132, 133, 134, 135, 136, 137, 138, 139, 140, 141, 142, 143, 144, 145, 146, 147, 148, 149, 150, 151, 152, 153, 154, 155, 156, 157, 158, 159, 160, 161, 162, 163, 164, 165, 166, 167, 168, 169, 170, 171, 172, 173, 174, 175, 176, 177, 178, 179, 180, 181, 182, 183, 184, 185, 186, 187, 188, 189, 190, 191, 192, 193, 194, 195, 196, 197, 198, 199, 200, 201, 202, 203, 204, 205, 206, 207, 208, 209, 210, 211, 212, 213, 214, 215, 216, 217, 218, 219, 220, 221, 222, 223, 224, 225, 226, 227, 228, 229, 230, 231, 232, 233, 234, 235, 236, 237, 238, 239, 240, 241, 242, 243, 244, 245, 246, 247, 248, 249, 250, 251, 252, 253, 254, 255, 256, 257, 258, 259, 260, 261, 262, 263, 264, 265, 266, 267, 268, 269, 270, 271, 272, 273, 274, 275, 276, 277, 278, 279, 280, 281, 282, 283, 284, 285, 286, 287, 288, 289, 290, 291, 292, 293, 294, 295, 296, 297, 298, 299, 300]\n"
     ]
    }
   ],
   "source": [
    "numero_final = int(input(\"Digite o número final desejado: \"))\n",
    "numeros = list(range(1, numero_final + 1))\n",
    "print(numeros)"
   ]
  }
 ],
 "metadata": {
  "kernelspec": {
   "display_name": "Python 3",
   "language": "python",
   "name": "python3"
  },
  "language_info": {
   "codemirror_mode": {
    "name": "ipython",
    "version": 3
   },
   "file_extension": ".py",
   "mimetype": "text/x-python",
   "name": "python",
   "nbconvert_exporter": "python",
   "pygments_lexer": "ipython3",
   "version": "3.11.4"
  }
 },
 "nbformat": 4,
 "nbformat_minor": 2
}
