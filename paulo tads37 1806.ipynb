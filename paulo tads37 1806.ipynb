{
 "cells": [
  {
   "cell_type": "code",
   "execution_count": 5,
   "metadata": {},
   "outputs": [
    {
     "data": {
      "text/plain": [
       "range(1, 5)"
      ]
     },
     "execution_count": 5,
     "metadata": {},
     "output_type": "execute_result"
    }
   ],
   "source": [
    "range(1,5)"
   ]
  },
  {
   "cell_type": "code",
   "execution_count": 7,
   "metadata": {},
   "outputs": [],
   "source": [
    "def funcaoleitura():\n",
    "    for num in range (5):\n",
    "        print(\"Numero \", num)"
   ]
  },
  {
   "cell_type": "code",
   "execution_count": 8,
   "metadata": {},
   "outputs": [
    {
     "name": "stdout",
     "output_type": "stream",
     "text": [
      "Numero  0\n",
      "Numero  1\n",
      "Numero  2\n",
      "Numero  3\n",
      "Numero  4\n"
     ]
    }
   ],
   "source": [
    "funcaoleitura()"
   ]
  },
  {
   "cell_type": "code",
   "execution_count": 5,
   "metadata": {},
   "outputs": [],
   "source": [
    "def addNum(n1, n2):\n",
    "    print(\"O primeiro número é: \", n1)\n",
    "    print(\"O segundo número é \", n2)\n",
    "    print(\"A soma do númeor é: \", n1+n2)"
   ]
  },
  {
   "cell_type": "code",
   "execution_count": 7,
   "metadata": {},
   "outputs": [],
   "source": [
    "n1 = 2\n",
    "n2 = 3\n"
   ]
  },
  {
   "cell_type": "code",
   "execution_count": 2,
   "metadata": {},
   "outputs": [],
   "source": [
    "def addNum(n1, n2):\n",
    "    print(\"O primeiro número é: \", n1)\n",
    "    print(\"O segundo número é \", n2)\n",
    "    print(\"A soma do númeor é: \", n1+n2)"
   ]
  },
  {
   "cell_type": "code",
   "execution_count": 3,
   "metadata": {},
   "outputs": [
    {
     "name": "stdout",
     "output_type": "stream",
     "text": [
      "O primeiro número é:  9\n",
      "O segundo número é  5\n",
      "A soma do númeor é:  14\n"
     ]
    }
   ],
   "source": [
    "addNum(9, 5)"
   ]
  },
  {
   "cell_type": "code",
   "execution_count": 4,
   "metadata": {},
   "outputs": [
    {
     "name": "stdout",
     "output_type": "stream",
     "text": [
      "O primeiro número é:  2\n",
      "O segundo número é  6\n",
      "A soma do númeor é:  8\n"
     ]
    }
   ],
   "source": [
    "addNum(2,6)"
   ]
  },
  {
   "cell_type": "code",
   "execution_count": 5,
   "metadata": {},
   "outputs": [],
   "source": [
    "varGlobal = 10 #ESSA É UMA VARIÁVEL GLOBAL\n",
    "def multiplica(num1, num2):\n",
    "    varLocal = num1 * num2 #ESSA É A VARIÁVEL LOCAL\n",
    "    print(\"Variável da função multiplca: \", varLocal)\n",
    "    #print(varLocal)"
   ]
  },
  {
   "cell_type": "code",
   "execution_count": 7,
   "metadata": {},
   "outputs": [
    {
     "name": "stdout",
     "output_type": "stream",
     "text": [
      "Variável da função multiplca:  60\n",
      "60\n"
     ]
    }
   ],
   "source": [
    "multiplica(12, 5)"
   ]
  },
  {
   "cell_type": "code",
   "execution_count": 14,
   "metadata": {},
   "outputs": [
    {
     "name": "stdout",
     "output_type": "stream",
     "text": [
      "Variável da função multiplca:  20\n",
      "10\n"
     ]
    }
   ],
   "source": [
    "varGlobal = 10 #ESSA É UMA VARIÁVEL GLOBAL\n",
    "def multiplicacao(num1, num2):\n",
    "#apesar do nome é local\n",
    "    varGlobal = (num1 * num2)\n",
    "    print(\"Variável da função multiplca: \", varGlobal)\n",
    "    #print(varLocal)\n",
    "\n",
    "multiplicacao(5,4)\n",
    "print(varGlobal)\n",
    "\n",
    "#A VARIAVEL GLOBAL QUE ESTÁ FORA DA IDENTAÇÃO DA FUNÇÃO NAO TEM NADA A VER COM A QUE ESTÁ NA FUNÇÃO E QUE POSSUI O MESMO NOME. SÃO DUAS DIFERENTES."
   ]
  },
  {
   "cell_type": "code",
   "execution_count": 18,
   "metadata": {},
   "outputs": [],
   "source": [
    "#quando nao sabemos a quantidade de parametros\n",
    "def variosParametros(*parametros):\n",
    "    for n, item in enumerate(parametros):\n",
    "        print(\"Parâmetro\", n, item)\n",
    "    return"
   ]
  },
  {
   "cell_type": "code",
   "execution_count": 19,
   "metadata": {},
   "outputs": [
    {
     "name": "stdout",
     "output_type": "stream",
     "text": [
      "Parâmetro 0 Luquinhas\n",
      "Parâmetro 1 Madá\n",
      "Parâmetro 2 Giggio\n"
     ]
    }
   ],
   "source": [
    "variosParametros('Luquinhas','Madá','Giggio')"
   ]
  },
  {
   "cell_type": "code",
   "execution_count": 37,
   "metadata": {},
   "outputs": [],
   "source": [
    "def soma(nu1, nu2):\n",
    "    return nu1 + nu2\n",
    "def subtracao(nu1, nu2):\n",
    "    return nu1 - nu2\n",
    "def multiplicacao(nu1, nu2):\n",
    "    return nu1 * nu2\n",
    "def divisao(nu1, nu2):\n",
    "    return nu1 / nu2"
   ]
  },
  {
   "cell_type": "code",
   "execution_count": 58,
   "metadata": {},
   "outputs": [
    {
     "name": "stdout",
     "output_type": "stream",
     "text": [
      "+==================+\n",
      "+|MENU DE OPERAÇÕES|\n",
      "+|1 - SOMAR        |\n",
      "+|2 - SUBTRAÇÃO    |\n",
      "+|3 - MULTIPLICACAO|\n",
      "+|4 - DIVISAO      |\n",
      "+|0 - SAIR         |\n",
      "+==================+\n",
      "O numero digitado é invalido, tente novamente\n",
      "+==================+\n",
      "+|MENU DE OPERAÇÕES|\n",
      "+|1 - SOMAR        |\n",
      "+|2 - SUBTRAÇÃO    |\n",
      "+|3 - MULTIPLICACAO|\n",
      "+|4 - DIVISAO      |\n",
      "+|0 - SAIR         |\n",
      "+==================+\n"
     ]
    }
   ],
   "source": [
    "while True:\n",
    "    print(\"+==================+\")\n",
    "    print(\"+|MENU DE OPERAÇÕES|\")\n",
    "    print(\"+|1 - SOMAR        |\")\n",
    "    print(\"+|2 - SUBTRAÇÃO    |\")\n",
    "    print(\"+|3 - MULTIPLICACAO|\")\n",
    "    print(\"+|4 - DIVISAO      |\")\n",
    "    print(\"+|0 - SAIR         |\")\n",
    "    print(\"+==================+\")\n",
    "    op = int(input())\n",
    "    if op==0:\n",
    "        break\n",
    "    elif op > 4:\n",
    "        print(\"O numero digitado é invalido, tente novamente\")\n",
    "    nu1 = int(input(\"Primeiro número: \"))\n",
    "    nu2 = int(input(\"Primeiro segundo número: \"))\n",
    "\n",
    "    if op ==1:\n",
    "        print(\"O resultado da soma é: \", soma(nu1,nu2))\n",
    "    elif op==2:\n",
    "        print(\"O resultado da subtração é: \", subtracao(nu1, nu2))\n",
    "    elif op==3:\n",
    "        print(\"O resultado da multiplicacao é: \", multiplicacao(nu1, nu2))\n",
    "    elif op==4:\n",
    "        print(\"O resultado da divisão é: \", divisao(nu1, nu2))\n"
   ]
  }
 ],
 "metadata": {
  "kernelspec": {
   "display_name": "Python 3",
   "language": "python",
   "name": "python3"
  },
  "language_info": {
   "codemirror_mode": {
    "name": "ipython",
    "version": 3
   },
   "file_extension": ".py",
   "mimetype": "text/x-python",
   "name": "python",
   "nbconvert_exporter": "python",
   "pygments_lexer": "ipython3",
   "version": "3.11.9"
  }
 },
 "nbformat": 4,
 "nbformat_minor": 2
}
