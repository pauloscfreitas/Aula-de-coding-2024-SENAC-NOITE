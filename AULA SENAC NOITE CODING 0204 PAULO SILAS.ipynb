{
 "cells": [
  {
   "cell_type": "code",
   "execution_count": 5,
   "metadata": {},
   "outputs": [],
   "source": [
    "valor1 = int(input(\"Digite o seu primeiro número\"))\n",
    "valor2 = int(input(\"Digite o seu segundo número\"))\n"
   ]
  },
  {
   "cell_type": "code",
   "execution_count": 7,
   "metadata": {},
   "outputs": [
    {
     "name": "stdout",
     "output_type": "stream",
     "text": [
      "False\n",
      "False\n",
      "True\n",
      "False\n",
      "True\n"
     ]
    }
   ],
   "source": [
    "print(valor1 == valor2)\n",
    "print(valor1 > valor2)\n",
    "print(valor1 < valor2)\n",
    "print(valor1 >= valor2)\n",
    "print(valor1 <= valor2)\n"
   ]
  },
  {
   "cell_type": "code",
   "execution_count": 9,
   "metadata": {},
   "outputs": [
    {
     "name": "stdout",
     "output_type": "stream",
     "text": [
      "True\n"
     ]
    }
   ],
   "source": [
    "senha = \"123456\"\n",
    "_senha = input(\"Digite sua senha\")\n",
    "print(senha == _senha)"
   ]
  },
  {
   "cell_type": "code",
   "execution_count": 17,
   "metadata": {},
   "outputs": [
    {
     "name": "stdout",
     "output_type": "stream",
     "text": [
      "False\n"
     ]
    }
   ],
   "source": [
    "numero = 10\n",
    "print(numero>0 and numero<10)\n"
   ]
  },
  {
   "cell_type": "code",
   "execution_count": 53,
   "metadata": {},
   "outputs": [
    {
     "name": "stdout",
     "output_type": "stream",
     "text": [
      "Acesso aprovado\n"
     ]
    }
   ],
   "source": [
    "#pedir senha, se errar pedir de novo, se errar pode ate 3 vezes, passou das 3, redefinicao de senha ou bloqueio\n",
    "#and, or - (e e ou)\n",
    "\n",
    "#usando if e else:\n",
    "\n",
    "\n",
    "cpf = \"07262894420\"\n",
    "nm1 = \"paulo\"\n",
    "email = \"pauloscdf14@gmail.com\"\n",
    "\n",
    "cpf_ = input(\"DIGITE SEU CPF\")\n",
    "nm1_ = input(\"DIGITE SEU NOME\")\n",
    "email_ = input(\"DIGITE SEU EMAIL\")\n",
    "\n",
    "if (cpf == cpf_ and nm1 == nm1_ and email == email_):\n",
    "    print(\"Acesso aprovado\")\n",
    "else: \n",
    "    print(\"acesso negado\")\n"
   ]
  },
  {
   "cell_type": "code",
   "execution_count": 40,
   "metadata": {},
   "outputs": [
    {
     "name": "stdout",
     "output_type": "stream",
     "text": [
      "Numero impar\n"
     ]
    }
   ],
   "source": [
    "#solicitar numero inteiro\n",
    "p1 = int(input(\"Digite seu um numero inteiro\"))\n",
    "\n",
    "#avaliar se é impar ou par\n",
    "\n",
    "if(p1 % 2 == 0):\n",
    "    print(\"Numero par\")\n",
    "\n",
    "else:\n",
    "\n",
    "    print(\"Numero impar\")\n",
    "\n",
    "    #para saber se o numero é par ou impar (resto zero = par, resto maior que zero é maior que impar)"
   ]
  },
  {
   "cell_type": "code",
   "execution_count": 52,
   "metadata": {},
   "outputs": [
    {
     "name": "stdout",
     "output_type": "stream",
     "text": [
      "voce ganhou 10% de desconto\n"
     ]
    }
   ],
   "source": [
    "#testando cupons e recebendo resultados dependendo do que for escrito para variavel\n",
    "cupom = input(\"Digite o cupom\")\n",
    "if (cupom == 'aula1' or cupom == 'aula2'):\n",
    "    print('voce ganhou 10% de desconto')\n",
    "else:\n",
    "        print(\"voce nao recebeu nenhum cupom\")"
   ]
  }
 ],
 "metadata": {
  "kernelspec": {
   "display_name": "Python 3",
   "language": "python",
   "name": "python3"
  },
  "language_info": {
   "codemirror_mode": {
    "name": "ipython",
    "version": 3
   },
   "file_extension": ".py",
   "mimetype": "text/x-python",
   "name": "python",
   "nbconvert_exporter": "python",
   "pygments_lexer": "ipython3",
   "version": "3.11.8"
  }
 },
 "nbformat": 4,
 "nbformat_minor": 2
}
