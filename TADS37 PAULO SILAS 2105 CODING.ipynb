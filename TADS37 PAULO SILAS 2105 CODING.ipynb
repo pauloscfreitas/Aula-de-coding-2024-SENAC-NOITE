{
 "cells": [
  {
   "cell_type": "code",
   "execution_count": 15,
   "metadata": {},
   "outputs": [
    {
     "name": "stdout",
     "output_type": "stream",
     "text": [
      "5 patinhos foram passear \n",
      " além das montanhas para brincar, \n",
      " a mamãe gritou \n",
      " 'quá, quá, quá, quá' - \n",
      " mas só 4  patinhos voltaram de lá\n",
      "4 patinhos foram passear \n",
      " além das montanhas para brincar, \n",
      " a mamãe gritou \n",
      " 'quá, quá, quá, quá' - \n",
      " mas só 3  patinhos voltaram de lá\n",
      "3 patinhos foram passear \n",
      " além das montanhas para brincar, \n",
      " a mamãe gritou \n",
      " 'quá, quá, quá, quá' - \n",
      " mas só 2  patinhos voltaram de lá\n",
      "2 patinhos foram passear \n",
      " além das montanhas para brincar, \n",
      " a mamãe gritou \n",
      " 'quá, quá, quá, quá' - \n",
      " mas só 1  patinhos voltaram de lá\n",
      "1 patinhos foram passear \n",
      " além das montanhas para brincar, \n",
      " a mamãe gritou \n",
      " 'quá, quá, quá, quá' - \n",
      " mas só 0  patinhos voltaram de lá\n"
     ]
    }
   ],
   "source": [
    "n = 5\n",
    "for cont in range(n, 0, -1):\n",
    "    print(cont, \"patinhos foram passear \\n além das montanhas para brincar, \\n a mamãe gritou \\n 'quá, quá, quá, quá' - \\n mas só\", cont-1, \" patinhos voltaram de lá\")\n"
   ]
  },
  {
   "cell_type": "code",
   "execution_count": null,
   "metadata": {},
   "outputs": [],
   "source": [
    "for patos in [1,2,3,4,5]:\n",
    "    print('Estamos no pato', patos)"
   ]
  },
  {
   "cell_type": "code",
   "execution_count": 25,
   "metadata": {},
   "outputs": [
    {
     "name": "stdout",
     "output_type": "stream",
     "text": [
      "Mariana conta  1 mariana conta  1 É  1 é 1 ana viva mariana viva mariana\n",
      "Mariana conta  2 mariana conta  2 É  1 é 2 ana viva mariana viva mariana\n",
      "Mariana conta  3 mariana conta  3 É  1 é 2 é 3 ana viva mariana viva mariana\n"
     ]
    }
   ],
   "source": [
    "#mariana conta 1\n",
    "#depois mariana conta 1 e repete é 1\n",
    "#depois ana viva mariana\n",
    "\n",
    "n = 1 \n",
    "print(\"Mariana conta \", n, \"mariana conta \", n, \"É \", n , \"é\", n, \"ana viva mariana viva mariana\")\n",
    "print(\"Mariana conta \", n+1, \"mariana conta \", n+1, \"É \", n , \"é\", n+1, \"ana viva mariana viva mariana\")\n",
    "print(\"Mariana conta \", n+2, \"mariana conta \", n+2, \"É \", n , \"é\", n+1, \"é\", n+2, \"ana viva mariana viva mariana\")\n",
    "print(\"Mariana conta \", n+3, \"mariana conta \", n+3, \"É \", n , \"é\", n+1, \"é\", n+2, \"ana viva mariana viva mariana\")"
   ]
  },
  {
   "cell_type": "code",
   "execution_count": null,
   "metadata": {},
   "outputs": [],
   "source": [
    "n1 = 10\n",
    "\n",
    "for mariana in range (n1):\n",
    "    print(mariana, \"mariana conta \")\n"
   ]
  },
  {
   "cell_type": "code",
   "execution_count": 29,
   "metadata": {},
   "outputs": [
    {
     "name": "stdout",
     "output_type": "stream",
     "text": [
      "Mariana conta 1 \n",
      " mariana conta 1 \n",
      " É 1 \n",
      " é 1 \n",
      " ana viva mariana viva mariana\n",
      "Mariana conta 2 \n",
      " mariana conta 2 \n",
      " É 1 \n",
      " é 2 \n",
      " ana viva mariana viva mariana\n",
      "Mariana conta 3 \n",
      " mariana conta 3 \n",
      " É 1 \n",
      " é 3 \n",
      " ana viva mariana viva mariana\n"
     ]
    }
   ],
   "source": [
    "n = 1\n",
    "for i in range(3): \n",
    "    print(\"Mariana conta\", n + i, \"\\n mariana conta\", n + i, \"\\n É\", n, \"\\n é\", n + i, \"\\n ana viva mariana viva mariana\")\n"
   ]
  },
  {
   "cell_type": "code",
   "execution_count": 31,
   "metadata": {},
   "outputs": [
    {
     "name": "stdout",
     "output_type": "stream",
     "text": [
      "mariana conta 1 Mariana conta 1 é 1 é 1, é Ana viva mariana, viva mariana\n",
      "Mariana conta 2 Mariana conta 2 é [1, 2] é Ana viva mariana, viva mariana\n",
      "Mariana conta 3 Mariana conta 3 é [1, 2, 3] é Ana viva mariana, viva mariana\n",
      "Mariana conta 4 Mariana conta 4 é [1, 2, 3, 4] é Ana viva mariana, viva mariana\n",
      "Mariana conta 5 Mariana conta 5 é [1, 2, 3, 4, 5] é Ana viva mariana, viva mariana\n",
      "Mariana conta 6 Mariana conta 6 é [1, 2, 3, 4, 5, 6] é Ana viva mariana, viva mariana\n",
      "Mariana conta 7 Mariana conta 7 é [1, 2, 3, 4, 5, 6, 7] é Ana viva mariana, viva mariana\n",
      "Mariana conta 8 Mariana conta 8 é [1, 2, 3, 4, 5, 6, 7, 8] é Ana viva mariana, viva mariana\n",
      "Mariana conta 9 Mariana conta 9 é [1, 2, 3, 4, 5, 6, 7, 8, 9] é Ana viva mariana, viva mariana\n",
      "Mariana conta 10 Mariana conta 10 é [1, 2, 3, 4, 5, 6, 7, 8, 9, 10] é Ana viva mariana, viva mariana\n"
     ]
    }
   ],
   "source": [
    "num = [1,2,3,4,5,6,7,8,9,10]\n",
    "i = 1\n",
    "for i in num:\n",
    "    if i == 1:\n",
    "        print(\"mariana conta 1 Mariana conta 1 é 1 é 1, é Ana viva mariana, viva mariana\")\n",
    "    else:\n",
    "        print(f'Mariana conta {i} Mariana conta {i} é', num[0:i], 'é Ana viva mariana, viva mariana')"
   ]
  },
  {
   "cell_type": "code",
   "execution_count": 35,
   "metadata": {},
   "outputs": [
    {
     "name": "stdout",
     "output_type": "stream",
     "text": [
      "1 elefantes incomodam muita gente\n",
      "2 elefantes incomodamincomodam muito mais\n",
      "3 elefantes incomodamincomodamincomodam muito mais\n"
     ]
    }
   ],
   "source": [
    "el = [1,2,3,4,5,6,7,8,9,10]\n",
    "\n",
    "for elefantes in el:\n",
    "    if elefantes == 1:\n",
    "        print(elefantes, 'elefantes incomodam muita gente')\n",
    "        elefantes += 1\n",
    "        print(elefantes, 'elefantes', 'incomodam' * elefantes, 'muito mais')\n",
    "        elefantes += 1\n",
    "        print(elefantes, 'elefantes', 'incomodam' * elefantes, 'muito mais')"
   ]
  }
 ],
 "metadata": {
  "kernelspec": {
   "display_name": "Python 3",
   "language": "python",
   "name": "python3"
  },
  "language_info": {
   "codemirror_mode": {
    "name": "ipython",
    "version": 3
   },
   "file_extension": ".py",
   "mimetype": "text/x-python",
   "name": "python",
   "nbconvert_exporter": "python",
   "pygments_lexer": "ipython3",
   "version": "3.11.9"
  }
 },
 "nbformat": 4,
 "nbformat_minor": 2
}
